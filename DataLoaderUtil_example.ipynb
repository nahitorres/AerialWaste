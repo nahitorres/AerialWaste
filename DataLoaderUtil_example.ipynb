{
 "cells": [
  {
   "cell_type": "code",
   "execution_count": null,
   "metadata": {},
   "outputs": [],
   "source": [
    "from utils import dataloader\n",
    "from tqdm import tqdm\n",
    "\n",
    "infer_list =\"training.json\" \n",
    "dataset_root =\"images\""
   ]
  },
  {
   "cell_type": "markdown",
   "metadata": {},
   "source": [
    "### Binary dataset  "
   ]
  },
  {
   "cell_type": "code",
   "execution_count": null,
   "metadata": {},
   "outputs": [],
   "source": [
    "databin = dataloader.ClassificationDataset(infer_list, dataset_root=dataset_root, binary=True)\n",
    "print(\"Amount of images\", len(databin))\n",
    "num_classes_binary = databin.label_list.shape[1]\n",
    "for img in tqdm(databin, leave=False):\n",
    "    print(img[\"name\"])\n",
    "    print(img[\"img\"])\n",
    "    print(img[\"label\"])\n",
    "    break"
   ]
  },
  {
   "cell_type": "markdown",
   "metadata": {},
   "source": [
    "### Multi-label dataset "
   ]
  },
  {
   "cell_type": "code",
   "execution_count": null,
   "metadata": {},
   "outputs": [],
   "source": [
    "data_multilabel = dataloader.ClassificationDataset(infer_list, dataset_root=dataset_root, binary=False)\n",
    "num_classes_multi_label = data_multilabel.label_list.shape[1]\n",
    "print(\"Amount of images\", len(data_multilabel))\n",
    "for img in tqdm(data_multilabel, leave=False):\n",
    "    print(img[\"name\"])\n",
    "    print(img[\"img\"])\n",
    "    print(img[\"label\"])\n",
    "    break"
   ]
  },
  {
   "cell_type": "markdown",
   "metadata": {},
   "source": [
    "### Multi-label dataset (filtering out classes)"
   ]
  },
  {
   "cell_type": "code",
   "execution_count": null,
   "metadata": {},
   "outputs": [],
   "source": [
    "data_multilabel = dataloader.ClassificationDataset(infer_list, dataset_root=dataset_root, binary=False, classes = [1,2,6])\n",
    "num_classes_multi_label = data_multilabel.label_list.shape[1]\n",
    "print(\"Amount of images\", len(data_multilabel))\n",
    "for img in tqdm(data_multilabel, leave=False):\n",
    "    print(img[\"name\"])\n",
    "    print(img[\"img\"])\n",
    "    print(img[\"label\"])\n",
    "    break"
   ]
  }
 ],
 "metadata": {
  "kernelspec": {
   "display_name": "Python 3 (ipykernel)",
   "language": "python",
   "name": "python3"
  },
  "language_info": {
   "codemirror_mode": {
    "name": "ipython",
    "version": 3
   },
   "file_extension": ".py",
   "mimetype": "text/x-python",
   "name": "python",
   "nbconvert_exporter": "python",
   "pygments_lexer": "ipython3",
   "version": "3.10.12"
  }
 },
 "nbformat": 4,
 "nbformat_minor": 2
}
