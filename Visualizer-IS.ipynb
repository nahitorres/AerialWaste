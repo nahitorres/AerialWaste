{
 "cells": [
  {
   "cell_type": "code",
   "execution_count": null,
   "metadata": {},
   "outputs": [],
   "source": [
    "import sys\n",
    "sys.path.insert(0, \"./odin/\")\n",
    "from odin.classes import TaskType, DatasetLocalization, VisualizerLocalization\n",
    "\n",
    "dataset_gt_param = \"testing.json\" \n",
    "images_path = \"images\"\n",
    "task_type = TaskType.INSTANCE_SEGMENTATION"
   ]
  },
  {
   "cell_type": "code",
   "execution_count": null,
   "metadata": {},
   "outputs": [],
   "source": [
    "my_dataset = DatasetLocalization(dataset_gt_param, task_type,\n",
    "                          images_abs_path=images_path,properties_file=\"prop_seg.json\", for_analysis=False)"
   ]
  },
  {
   "cell_type": "code",
   "execution_count": null,
   "metadata": {},
   "outputs": [],
   "source": [
    "visualizer = VisualizerLocalization(my_dataset)\n",
    "visualizer.visualize_annotations()"
   ]
  }
 ],
 "metadata": {
  "kernelspec": {
   "display_name": "Python 3 (ipykernel)",
   "language": "python",
   "name": "python3"
  },
  "language_info": {
   "codemirror_mode": {
    "name": "ipython",
    "version": 3
   },
   "file_extension": ".py",
   "mimetype": "text/x-python",
   "name": "python",
   "nbconvert_exporter": "python",
   "pygments_lexer": "ipython3",
   "version": "3.10.12"
  }
 },
 "nbformat": 4,
 "nbformat_minor": 2
}
