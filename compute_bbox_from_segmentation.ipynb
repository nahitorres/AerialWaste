{
 "cells": [
  {
   "cell_type": "code",
   "execution_count": 1,
   "id": "09ec554c",
   "metadata": {},
   "outputs": [],
   "source": [
    "input_path = \"testing.json\"\n",
    "output_path = \"testing_1.json\""
   ]
  },
  {
   "cell_type": "code",
   "execution_count": 2,
   "id": "b5eefc59",
   "metadata": {},
   "outputs": [],
   "source": [
    "import json\n",
    "\n",
    "data = json.load(open(input_path))\n",
    "\n",
    "for annotation in data[\"annotations\"]:\n",
    "    seg = annotation[\"segmentation\"][0]\n",
    "    size = len(seg) - 1\n",
    "    tuples = []\n",
    "    w, h = [], []\n",
    "    for i in range(0, size, 2):\n",
    "        hcoord = seg[i+1]\n",
    "        wcoord = seg[i]\n",
    "        h.append(hcoord)\n",
    "        w.append(wcoord)\n",
    "\n",
    "    annotation[\"bbox\"] =  [min(w), min(h), max(w)-min(w), max(h)-min(h)]"
   ]
  },
  {
   "cell_type": "code",
   "execution_count": 3,
   "id": "e5229a39",
   "metadata": {},
   "outputs": [],
   "source": [
    "json.dump(data, open(output_path, \"w\"), indent=4)"
   ]
  }
 ],
 "metadata": {
  "kernelspec": {
   "display_name": "Python 3 (ipykernel)",
   "language": "python",
   "name": "python3"
  },
  "language_info": {
   "codemirror_mode": {
    "name": "ipython",
    "version": 3
   },
   "file_extension": ".py",
   "mimetype": "text/x-python",
   "name": "python",
   "nbconvert_exporter": "python",
   "pygments_lexer": "ipython3",
   "version": "3.10.12"
  }
 },
 "nbformat": 4,
 "nbformat_minor": 5
}
